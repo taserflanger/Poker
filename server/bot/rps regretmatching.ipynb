{
 "cells": [
  {
   "cell_type": "markdown",
   "metadata": {
    "collapsed": true,
    "pycharm": {
     "name": "#%% md\n"
    }
   },
   "source": [
    "### \"Regret matching\" pour pierre feuille cieaux"
   ]
  },
  {
   "cell_type": "code",
   "execution_count": 1,
   "outputs": [],
   "source": [
    "import numpy as np\n",
    "from random import random\n",
    "\n",
    "pierre, feuille, ciseaux = 0, 1, 2\n",
    "REGRET_SUM = np.zeros((3,))\n",
    "STRATEGY = np.zeros((3,))\n",
    "STRATEGY_SUM = np.zeros((3,))\n",
    "OPP_STRATEGY = np.array([0.4, 0.3, 0.3])"
   ],
   "metadata": {
    "collapsed": false,
    "pycharm": {
     "name": "#%%\n"
    }
   }
  },
  {
   "cell_type": "code",
   "execution_count": 2,
   "outputs": [],
   "source": [
    "def get_strategy(regret_sum, strategy_sum, strategy):\n",
    "    normalisateur = 0\n",
    "    for i in range(3):\n",
    "        strategy[i] += max(0, regret_sum[i])\n",
    "        normalisateur += strategy[i]\n",
    "    for i in range(3):\n",
    "        if normalisateur>0:\n",
    "            strategy[i]/=normalisateur\n",
    "        else:\n",
    "            strategy[i]=1/3\n",
    "        strategy_sum[i] += strategy[i]\n",
    "    return strategy_sum, strategy"
   ],
   "metadata": {
    "collapsed": false,
    "pycharm": {
     "name": "#%%\n"
    }
   }
  },
  {
   "cell_type": "code",
   "execution_count": 3,
   "outputs": [],
   "source": [
    "def get_action(strategy):\n",
    "    number = random()\n",
    "    i = 0\n",
    "    cumulative = strategy[0]\n",
    "    while number>cumulative:\n",
    "        i+=1\n",
    "        cumulative+=strategy[i]\n",
    "    return i"
   ],
   "metadata": {
    "collapsed": false,
    "pycharm": {
     "name": "#%%\n"
    }
   }
  },
  {
   "cell_type": "code",
   "execution_count": 4,
   "outputs": [],
   "source": [
    "def train(N):\n",
    "    global STRATEGY, REGRET_SUM, STRATEGY_SUM\n",
    "    utilities = [0,0,0]\n",
    "    for _ in range(N):\n",
    "        #get strategy profile and actions\n",
    "        STRATEGY_SUM, STRATEGY = get_strategy(REGRET_SUM, STRATEGY_SUM, STRATEGY)\n",
    "        action = get_action(STRATEGY)\n",
    "        other_action = get_action(OPP_STRATEGY)\n",
    "\n",
    "        #compute action utilities\n",
    "        utilities[other_action] = 0\n",
    "        utilities[(other_action+1)%3] = 1\n",
    "        utilities[(other_action-1)%3] = -1\n",
    "\n",
    "        #\n",
    "        REGRET_SUM = utilities - np.full((3,), utilities[action])"
   ],
   "metadata": {
    "collapsed": false,
    "pycharm": {
     "name": "#%%\n"
    }
   }
  },
  {
   "cell_type": "code",
   "execution_count": 5,
   "outputs": [],
   "source": [
    "def get_average_srategy(strategy_sum):\n",
    "    normalisateur = sum(strategy_sum)\n",
    "    if normalisateur==0:\n",
    "        return np.full((3,), 1/3)\n",
    "    return strategy_sum/normalisateur"
   ],
   "metadata": {
    "collapsed": false,
    "pycharm": {
     "name": "#%%\n"
    }
   }
  },
  {
   "cell_type": "code",
   "execution_count": 6,
   "outputs": [
    {
     "name": "stdout",
     "output_type": "stream",
     "text": [
      "[0.31931797 0.36994721 0.31073482]\n"
     ]
    }
   ],
   "source": [
    "train(1000000)\n",
    "print(get_average_srategy(STRATEGY_SUM))"
   ],
   "metadata": {
    "collapsed": false,
    "pycharm": {
     "name": "#%%\n"
    }
   }
  }
 ],
 "metadata": {
  "kernelspec": {
   "display_name": "Python 3",
   "language": "python",
   "name": "python3"
  },
  "language_info": {
   "codemirror_mode": {
    "name": "ipython",
    "version": 2
   },
   "file_extension": ".py",
   "mimetype": "text/x-python",
   "name": "python",
   "nbconvert_exporter": "python",
   "pygments_lexer": "ipython2",
   "version": "2.7.6"
  }
 },
 "nbformat": 4,
 "nbformat_minor": 0
}