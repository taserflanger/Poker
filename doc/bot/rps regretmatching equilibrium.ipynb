{
 "cells": [
  {
   "cell_type": "markdown",
   "metadata": {
    "collapsed": true,
    "pycharm": {
     "name": "#%% md\n"
    }
   },
   "source": [
    "### \"Regret matching\" pour pierre feuille cieaux\n",
    "#### 2 joueurs, on tend vers l'équilibre de Nash"
   ]
  },
  {
   "cell_type": "code",
   "execution_count": 7,
   "outputs": [],
   "source": [
    "import numpy as np\n",
    "from random import random\n",
    "\n",
    "pierre, feuille, ciseaux = 0, 1, 2\n",
    "REGRET_SUM1, REGRET_SUM2 = np.zeros((3,)), np.zeros((3,))\n",
    "STRATEGY_SUM1, STRATEGY_SUM2 = np.zeros((3,)), np.zeros((3,))\n",
    "STRATEGY1 = np.array([0.1, 0.3, 0.6])\n",
    "STRATEGY2 = np.array([0.4, 0.3, 0.3])"
   ],
   "metadata": {
    "collapsed": false,
    "pycharm": {
     "name": "#%%\n"
    }
   }
  },
  {
   "cell_type": "code",
   "execution_count": 8,
   "outputs": [],
   "source": [
    "def get_strategy(regret_sum, strategy_sum, strategy):\n",
    "    normalisateur = 0\n",
    "    for i in range(3):\n",
    "        strategy[i] += max(0, regret_sum[i])\n",
    "        normalisateur += strategy[i]\n",
    "    for i in range(3):\n",
    "        if normalisateur>0:\n",
    "            strategy[i]/=normalisateur\n",
    "        else:\n",
    "            strategy[i]=1/3\n",
    "        strategy_sum[i] += strategy[i]\n",
    "    return strategy_sum, strategy"
   ],
   "metadata": {
    "collapsed": false,
    "pycharm": {
     "name": "#%%\n"
    }
   }
  },
  {
   "cell_type": "code",
   "execution_count": 9,
   "outputs": [],
   "source": [
    "def get_action(strategy):\n",
    "    number = random()\n",
    "    i = 0\n",
    "    cumulative = strategy[0]\n",
    "    while number>cumulative:\n",
    "        i+=1\n",
    "        cumulative+=strategy[i]\n",
    "    return i"
   ],
   "metadata": {
    "collapsed": false,
    "pycharm": {
     "name": "#%%\n"
    }
   }
  },
  {
   "cell_type": "code",
   "execution_count": 10,
   "outputs": [],
   "source": [
    "def train(N):\n",
    "    global STRATEGY1, REGRET_SUM1, STRATEGY_SUM1\n",
    "    global STRATEGY2, REGRET_SUM2, STRATEGY_SUM2\n",
    "\n",
    "    utilities_1 = [0,0,0]\n",
    "    utilities_2 = [0,0,0]\n",
    "    for _ in range(N):\n",
    "        #get strategy profile and actions\n",
    "        STRATEGY_SUM1, STRATEGY1 = get_strategy(REGRET_SUM1, STRATEGY_SUM1, STRATEGY1)\n",
    "        STRATEGY_SUM2, STRATEGY2 = get_strategy(REGRET_SUM2, STRATEGY_SUM2, STRATEGY2)\n",
    "        action1 = get_action(STRATEGY1)\n",
    "        action2 = get_action(STRATEGY2)\n",
    "\n",
    "        #compute action1 utilities\n",
    "        utilities_1[action2] = 0\n",
    "        utilities_1[(action2+1)%3] = 1\n",
    "        utilities_1[(action2-1)%3] = -1\n",
    "\n",
    "        #compute action2 utilities\n",
    "        utilities_2[action1] = 0\n",
    "        utilities_2[(action1+1)%3] = 1\n",
    "        utilities_2[(action1-1)%3] = -1\n",
    "\n",
    "        #\n",
    "        REGRET_SUM1 = utilities_1 - np.full((3,), utilities_1[action1])\n",
    "        REGRET_SUM2 = utilities_2 - np.full((3,), utilities_2[action2])"
   ],
   "metadata": {
    "collapsed": false,
    "pycharm": {
     "name": "#%%\n"
    }
   }
  },
  {
   "cell_type": "code",
   "execution_count": 11,
   "outputs": [],
   "source": [
    "def get_average_srategy(strategy_sum):\n",
    "    normalisateur = np.sum(strategy_sum)\n",
    "    if normalisateur==0:\n",
    "        return np.full((3,), 1/3)\n",
    "    return strategy_sum/normalisateur"
   ],
   "metadata": {
    "collapsed": false,
    "pycharm": {
     "name": "#%%\n"
    }
   }
  },
  {
   "cell_type": "code",
   "execution_count": 12,
   "outputs": [
    {
     "name": "stdout",
     "output_type": "stream",
     "text": [
      "[0.33390281 0.33390303 0.33219416] [0.33372217 0.33297686 0.33330097]\n"
     ]
    }
   ],
   "source": [
    "train(100000)\n",
    "print(get_average_srategy(STRATEGY_SUM1), get_average_srategy(STRATEGY_SUM2))"
   ],
   "metadata": {
    "collapsed": false,
    "pycharm": {
     "name": "#%%\n"
    }
   }
  }
 ],
 "metadata": {
  "kernelspec": {
   "display_name": "Python 3",
   "language": "python",
   "name": "python3"
  },
  "language_info": {
   "codemirror_mode": {
    "name": "ipython",
    "version": 2
   },
   "file_extension": ".py",
   "mimetype": "text/x-python",
   "name": "python",
   "nbconvert_exporter": "python",
   "pygments_lexer": "ipython2",
   "version": "2.7.6"
  }
 },
 "nbformat": 4,
 "nbformat_minor": 0
}